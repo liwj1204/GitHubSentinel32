{
 "cells": [
  {
   "cell_type": "code",
   "execution_count": 3,
   "metadata": {},
   "outputs": [
    {
     "name": "stdout",
     "output_type": "stream",
     "text": [
      "{'model': 'llama3.1:8b', 'created_at': '2024-09-04T10:40:58.416194Z', 'response': '{\"sunrise\": \"Light Pink to Light Orange\", \\n\"morning\": \"Soft Pink to Pale Blue\", \\n\"dawn\": \"Dark Blue to Bright Pink\", \\n\"daytime\": \"Bright Blue\", \\n\"sunset\": \"Pastel Orange to Deep Coral\", \\n\"evening\": \"Soft Pink to Muted Purple\"}', 'done': True, 'done_reason': 'stop', 'context': [128009, 128006, 882, 128007, 271, 3923, 1933, 374, 279, 13180, 520, 2204, 3115, 315, 279, 1938, 30, 40633, 1701, 4823, 128009, 128006, 78191, 128007, 271, 5018, 40619, 32609, 794, 330, 14235, 27211, 311, 8828, 22725, 498, 720, 1, 57902, 1251, 794, 330, 31631, 27211, 311, 12629, 8868, 498, 720, 46017, 6513, 794, 330, 26915, 8868, 311, 27508, 27211, 498, 720, 1, 1316, 1712, 794, 330, 75776, 8868, 498, 720, 41887, 37904, 794, 330, 51213, 301, 22725, 311, 18682, 64916, 498, 720, 1, 17206, 287, 794, 330, 31631, 27211, 311, 386, 2844, 41489, 9388], 'total_duration': 16685074000, 'load_duration': 9906774333, 'prompt_eval_count': 26, 'prompt_eval_duration': 323481000, 'eval_count': 69, 'eval_duration': 6448462000}\n"
     ]
    }
   ],
   "source": [
    "import requests\n",
    "\n",
    "url = \"http://localhost:11434/api/generate\"\n",
    "payload = {\n",
    "    \"model\": \"llama3.1:8b\",\n",
    "    \"prompt\": \"What color is the sky at different times of the day? Respond using JSON\",\n",
    "    \"format\": \"json\",\n",
    "    \"stream\": False\n",
    "}\n",
    "\n",
    "response = requests.post(url, json=payload)\n",
    "\n",
    "print(response.json())"
   ]
  },
  {
   "cell_type": "code",
   "execution_count": null,
   "metadata": {},
   "outputs": [],
   "source": [
    "import requests\n",
    "\n",
    "url = \"http://localhost:11434/api/chat\"\n",
    "payload = {\n",
    "    \"model\": \"gemma2:latest\",\n",
    "    \"messages\": [\n",
    "        {\"role\": \"user\", \"content\": \"Why is the sky blue?\"}\n",
    "    ],\n",
    "    \"stream\": False\n",
    "}\n",
    "\n",
    "response = requests.post(url, json=payload)\n",
    "print(response.json())"
   ]
  }
 ],
 "metadata": {
  "kernelspec": {
   "display_name": "Python 3",
   "language": "python",
   "name": "python3"
  },
  "language_info": {
   "codemirror_mode": {
    "name": "ipython",
    "version": 3
   },
   "file_extension": ".py",
   "mimetype": "text/x-python",
   "name": "python",
   "nbconvert_exporter": "python",
   "pygments_lexer": "ipython3",
   "version": "3.11.1"
  }
 },
 "nbformat": 4,
 "nbformat_minor": 2
}
